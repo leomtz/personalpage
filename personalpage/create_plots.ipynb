{
 "cells": [
  {
   "cell_type": "code",
   "execution_count": 6,
   "metadata": {},
   "outputs": [],
   "source": [
    "import pandas as pd\n",
    "import matplotlib as mpl\n",
    "import matplotlib.pyplot as plt\n",
    "from sqlalchemy import create_engine, select, text\n",
    "\n",
    "engine = create_engine(\"sqlite:///data/cv.db\", future=True)\n",
    "\n",
    "#Utility to edit the color of plot\n",
    "\n",
    "def change_color(color):\n",
    "    mpl.rcParams['text.color'] = color\n",
    "    mpl.rcParams['axes.labelcolor'] = color\n",
    "    mpl.rcParams['axes.edgecolor'] = color\n",
    "    mpl.rcParams['xtick.color'] = color\n",
    "    mpl.rcParams['ytick.color'] = color\n",
    "change_color(\"#00002B\")"
   ]
  },
  {
   "cell_type": "code",
   "execution_count": 26,
   "metadata": {},
   "outputs": [],
   "source": [
    "#Reads the database\n",
    "with engine.connect() as conn:\n",
    "     journals = dict(conn.execute(text(\"\"\"SELECT strftime('%Y',date), COUNT(id) FROM scientificpublication\n",
    "                                   WHERE publication_type='journal'\n",
    "                                   GROUP BY strftime('%Y',date)\n",
    "                                   \"\"\")).all())\n",
    "     proceedings = dict(conn.execute(text(\"\"\"SELECT strftime('%Y',date), COUNT(id) FROM scientificpublication\n",
    "                                   WHERE publication_type='ext-abs'\n",
    "                                   GROUP BY strftime('%Y',date)\n",
    "                                   \"\"\")).all())\n",
    "     preprints = dict(conn.execute(text(\"\"\"SELECT strftime('%Y',date), COUNT(id) FROM scientificpublication\n",
    "                                   WHERE publication_type='preprint'\n",
    "                                   GROUP BY strftime('%Y',date)\n",
    "                                   \"\"\")).all())"
   ]
  },
  {
   "cell_type": "code",
   "execution_count": 39,
   "metadata": {},
   "outputs": [
    {
     "data": {
      "image/png": "[encoded data removed]",
      "text/plain": [
       "<Figure size 432x288 with 1 Axes>"
      ]
     },
     "metadata": {
      "needs_background": "light"
     },
     "output_type": "display_data"
    }
   ],
   "source": [
    "#Count per year\n",
    "years=list(range(2013,2023))\n",
    "c_journals=[journals.get(str(year),0) for year in years]\n",
    "c_preprints=[preprints.get(str(year),0) for year in years]\n",
    "c_proceedings=[proceedings.get(str(year),0) for year in years]\n",
    "c_sum=[journals.get(str(year),0)+proceedings.get(str(year),0) for year in years]\n",
    "\n",
    "#Create the plot\n",
    "plt.bar(years,c_journals, label='Journal Papers', color=\"#C83771\")\n",
    "plt.bar(years,c_proceedings, bottom=c_journals, label='Proceedings', color=\"#00002B\")\n",
    "plt.bar(years,c_preprints, bottom=c_sum, label='Preprints', color=\"#6c757d\")\n",
    "\n",
    "plt.xticks(years)\n",
    "plt.xlabel('Year')\n",
    "plt.ylabel('Count')\n",
    "plt.legend(loc='best',facecolor=\"white\")\n",
    "plt.tight_layout()\n",
    "plt.savefig('papers.png'.format(years),dpi=120,transparent=True)\n",
    "plt.show()"
   ]
  },
  {
   "cell_type": "code",
   "execution_count": null,
   "metadata": {},
   "outputs": [],
   "source": []
  }
 ],
 "metadata": {
  "kernelspec": {
   "display_name": "Python 3.9.7 ('base')",
   "language": "python",
   "name": "python3"
  },
  "language_info": {
   "codemirror_mode": {
    "name": "ipython",
    "version": 3
   },
   "file_extension": ".py",
   "mimetype": "text/x-python",
   "name": "python",
   "nbconvert_exporter": "python",
   "pygments_lexer": "ipython3",
   "version": "3.9.7"
  },
  "orig_nbformat": 4,
  "vscode": {
   "interpreter": {
    "hash": "626e9769c8c3979acb1f3cc317d7f0be3ce3566b4762364a084afc405e0ae63c"
   }
  }
 },
 "nbformat": 4,
 "nbformat_minor": 2
}
